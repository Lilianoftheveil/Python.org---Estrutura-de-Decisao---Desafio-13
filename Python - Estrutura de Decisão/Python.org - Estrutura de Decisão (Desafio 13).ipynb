{
 "cells": [
  {
   "cell_type": "code",
   "execution_count": null,
   "id": "f704985c",
   "metadata": {},
   "outputs": [],
   "source": [
    "Python - Lista de Exercícios (Estrutura de Decisão) \n",
    "link: https://wiki.python.org.br/EstruturaDeDecisao"
   ]
  },
  {
   "cell_type": "markdown",
   "id": "c1424185",
   "metadata": {},
   "source": [
    "13) Faça um Programa que leia um número e exiba o dia correspondente da semana. \n",
    "(1-Domingo, 2- Segunda, etc.), se digitar outro valor deve aparecer valor inválido."
   ]
  },
  {
   "cell_type": "code",
   "execution_count": null,
   "id": "6d7cf684",
   "metadata": {},
   "outputs": [],
   "source": [
    "Obs.: Visando desenvolver o programa de forma mais dinâmica e menos suscetível a erros, adicionei \n",
    "outras estruturas no corpo do código. De modo que apenas números sejam aceitos durante sua execução."
   ]
  },
  {
   "cell_type": "code",
   "execution_count": null,
   "id": "eb6d47b6",
   "metadata": {},
   "outputs": [],
   "source": [
    "while True:\n",
    "  x = input(\"Digite um número de 1 a 7: \")\n",
    "  try:\n",
    "    float(x)\n",
    "    if float(x) == 1:\n",
    "      print(\"Domingo\")\n",
    "      break\n",
    "    elif float(x) == 2:\n",
    "      print(\"Segunda-feira\")\n",
    "      break\n",
    "    elif float(x) == 3:\n",
    "      print(\"Terça-feira\")\n",
    "      break\n",
    "    elif float(x) == 4:\n",
    "      print(\"Quarta-feira\")\n",
    "      break\n",
    "    elif float(x) == 5:\n",
    "      print(\"Quinta-feira\")\n",
    "      break\n",
    "    elif float(x) == 6:\n",
    "      print(\"Sexta-feira\")\n",
    "      break\n",
    "    elif float(x) == 7:\n",
    "      print(\"Sábado\")\n",
    "      break\n",
    "    else:\n",
    "      print(\"Valor Inválido\")\n",
    "      break\n",
    "  except:\n",
    "      print(\"Por favor, digite apenas números.\")\n",
    "      continue"
   ]
  }
 ],
 "metadata": {
  "kernelspec": {
   "display_name": "Python 3 (ipykernel)",
   "language": "python",
   "name": "python3"
  },
  "language_info": {
   "codemirror_mode": {
    "name": "ipython",
    "version": 3
   },
   "file_extension": ".py",
   "mimetype": "text/x-python",
   "name": "python",
   "nbconvert_exporter": "python",
   "pygments_lexer": "ipython3",
   "version": "3.8.10"
  }
 },
 "nbformat": 4,
 "nbformat_minor": 5
}
